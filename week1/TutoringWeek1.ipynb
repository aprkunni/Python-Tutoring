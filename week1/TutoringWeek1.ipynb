{
 "cells": [
  {
   "cell_type": "markdown",
   "source": [
    "#12312412#"
   ],
   "metadata": {
    "collapsed": false
   }
  },
  {
   "cell_type": "code",
   "execution_count": 2,
   "outputs": [
    {
     "name": "stdout",
     "output_type": "stream",
     "text": [
      "hello world!\n"
     ]
    }
   ],
   "source": [
    "print(\"hello world!\")"
   ],
   "metadata": {
    "collapsed": false,
    "pycharm": {
     "name": "#%%\n"
    }
   }
  },
  {
   "cell_type": "code",
   "execution_count": null,
   "outputs": [],
   "source": [
    "a = 10\n",
    "b = 20\n",
    "print(a+b)"
   ],
   "metadata": {
    "collapsed": false,
    "pycharm": {
     "name": "#%%\n"
    }
   }
  },
  {
   "cell_type": "code",
   "execution_count": 6,
   "outputs": [
    {
     "name": "stdout",
     "output_type": "stream",
     "text": [
      "78.5\n"
     ]
    }
   ],
   "source": [
    "PI = 3.14\n",
    "radius = 10\n",
    "\n",
    "print(PI * radius*radius)\n"
   ],
   "metadata": {
    "collapsed": false,
    "pycharm": {
     "name": "#%%\n"
    }
   }
  },
  {
   "cell_type": "code",
   "execution_count": 7,
   "outputs": [
    {
     "name": "stdout",
     "output_type": "stream",
     "text": [
      "2222.222222222222\n"
     ]
    }
   ],
   "source": [
    "light_speed =3000000\n",
    "Km = 400000000000\n",
    "sec = Km / light_speed\n",
    "lightYear = sec /(60.0)\n",
    "print(lightYear)"
   ],
   "metadata": {
    "collapsed": false,
    "pycharm": {
     "name": "#%%\n"
    }
   }
  },
  {
   "cell_type": "code",
   "execution_count": 11,
   "outputs": [
    {
     "name": "stdout",
     "output_type": "stream",
     "text": [
      "두 수의 합은 : 246\n",
      "두 수의 빼기는 : 0\n",
      "두 수의 곱은 15129\n",
      "두 수의 나눗셈은 : 1.0\n",
      "두 수의 나머지는 : 0\n"
     ]
    }
   ],
   "source": [
    "number = int(input(\"첫번째 수 입력 :\"))\n",
    "number2 = int(input(\"두번째 수 입력 :\"))\n",
    "print(\"두 수의 합은 :\",number + number2)\n",
    "print(\"두 수의 빼기는 :\",number - number2)\n",
    "print(\"두 수의 곱은\", number * number2)\n",
    "print(\"두 수의 나눗셈은 :\",number / number2)\n",
    "print(\"두 수의 나머지는 :\",number % number2)"
   ],
   "metadata": {
    "collapsed": false,
    "pycharm": {
     "name": "#%%\n"
    }
   }
  },
  {
   "cell_type": "code",
   "execution_count": 1,
   "outputs": [
    {
     "name": "stdout",
     "output_type": "stream",
     "text": [
      "===입력금액===\n",
      "1000원 = 7 500원 = 1 100원 = 0 10원 = 0 1원 = 0\n"
     ]
    }
   ],
   "source": [
    "won =int(input(\"물건값을 입력하시오 : \"))\n",
    "print(\"===입력금액===\")\n",
    "won1000 = int(input('1000원 갯수:'))\n",
    "won500 = int(input('500원 동전 갯수:'))\n",
    "won100 = int(input('100원 동전 갯수:'))\n",
    "\n",
    "coin = (won1000*1000+won500*500+won100*100)-won\n",
    "\n",
    "coin1000 = coin // 1000\n",
    "coin = coin % 1000\n",
    "\n",
    "coin500 = coin // 500\n",
    "coin = coin % 500\n",
    "\n",
    "coin100 = coin // 100\n",
    "coin = coin % 100\n",
    "\n",
    "coin10 = coin // 10\n",
    "coin = coin % 10\n",
    "\n",
    "coin1 = coin // 1\n",
    "coin = coin % 1\n",
    "\n",
    "print(\"1000원 =\",coin1000,\"500원 =\",coin500,\"100원 =\",coin100,\"10원 =\",coin10,\"1원 =\",coin1)"
   ],
   "metadata": {
    "collapsed": false,
    "pycharm": {
     "name": "#%%\n"
    }
   }
  },
  {
   "cell_type": "markdown",
   "source": [],
   "metadata": {
    "collapsed": false
   }
  },
  {
   "cell_type": "code",
   "execution_count": 14,
   "outputs": [
    {
     "name": "stdout",
     "output_type": "stream",
     "text": [
      "========================\n",
      "오늘 서울에서 야구 경기가 열렸습니다.\n",
      "삼성과 lg은 치열한 공방전을 펼쳤습니다.\n",
      "홍길동이 맹활약을 하였습니다.\n",
      "결국 삼성이(가)lg를 8:7로 이겼습니다.\n",
      "========================\n"
     ]
    }
   ],
   "source": [
    "place  =input(\"경기장은 어디입니까? :\")\n",
    "winner = input(\"이긴팀은 어디입니까? :\")\n",
    "looser = input(\"진팀은 어디입니까? :\")\n",
    "Mvp = input(\"우수선수는 누구입니까? :\")\n",
    "score = input(\"스코어는 몇대 몇입니까?\")\n",
    "print(\"========================\")\n",
    "print(\"오늘 \" + place +\"에서 야구 경기가 열렸습니다.\")\n",
    "print(winner + \"과 \" + looser + \"은 치열한 공방전을 펼쳤습니다.\")\n",
    "print(Mvp + \"이 맹활약을 하였습니다.\")\n",
    "print(\"결국 \" + winner + \"이(가)\" + looser + \"를 \" + score + \"로 이겼습니다.\")\n",
    "print(\"========================\")\n"
   ],
   "metadata": {
    "collapsed": false,
    "pycharm": {
     "name": "#%%\n"
    }
   }
  },
  {
   "cell_type": "markdown",
   "source": [],
   "metadata": {
    "collapsed": false
   }
  },
  {
   "cell_type": "code",
   "execution_count": null,
   "outputs": [],
   "source": [],
   "metadata": {
    "collapsed": false,
    "pycharm": {
     "name": "#%%\n"
    }
   }
  }
 ],
 "metadata": {
  "kernelspec": {
   "display_name": "Python 3",
   "language": "python",
   "name": "python3"
  },
  "language_info": {
   "codemirror_mode": {
    "name": "ipython",
    "version": 2
   },
   "file_extension": ".py",
   "mimetype": "text/x-python",
   "name": "python",
   "nbconvert_exporter": "python",
   "pygments_lexer": "ipython2",
   "version": "2.7.6"
  }
 },
 "nbformat": 4,
 "nbformat_minor": 0
}